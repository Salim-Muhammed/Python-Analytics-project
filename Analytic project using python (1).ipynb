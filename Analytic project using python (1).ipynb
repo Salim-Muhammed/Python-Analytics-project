{
 "cells": [
  {
   "cell_type": "code",
   "execution_count": 2,
   "id": "f88e354c",
   "metadata": {},
   "outputs": [],
   "source": [
    "#Customer Lifetime Value Analysis"
   ]
  },
  {
   "cell_type": "code",
   "execution_count": 3,
   "id": "36621617",
   "metadata": {},
   "outputs": [],
   "source": [
    "#Importing important libraries :\n",
    "\n",
    "import pandas as pd\n",
    "import matplotlib.pyplot as plt\n",
    "import seaborn as sns"
   ]
  },
  {
   "cell_type": "code",
   "execution_count": 4,
   "id": "e3ed7ac8",
   "metadata": {},
   "outputs": [
    {
     "data": {
      "text/html": [
       "<div>\n",
       "<style scoped>\n",
       "    .dataframe tbody tr th:only-of-type {\n",
       "        vertical-align: middle;\n",
       "    }\n",
       "\n",
       "    .dataframe tbody tr th {\n",
       "        vertical-align: top;\n",
       "    }\n",
       "\n",
       "    .dataframe thead th {\n",
       "        text-align: right;\n",
       "    }\n",
       "</style>\n",
       "<table border=\"1\" class=\"dataframe\">\n",
       "  <thead>\n",
       "    <tr style=\"text-align: right;\">\n",
       "      <th></th>\n",
       "      <th>customer_id</th>\n",
       "      <th>channel</th>\n",
       "      <th>cost</th>\n",
       "      <th>conversion_rate</th>\n",
       "      <th>revenue</th>\n",
       "    </tr>\n",
       "  </thead>\n",
       "  <tbody>\n",
       "    <tr>\n",
       "      <th>0</th>\n",
       "      <td>1</td>\n",
       "      <td>referral</td>\n",
       "      <td>8.320327</td>\n",
       "      <td>0.123145</td>\n",
       "      <td>4199</td>\n",
       "    </tr>\n",
       "    <tr>\n",
       "      <th>1</th>\n",
       "      <td>2</td>\n",
       "      <td>paid advertising</td>\n",
       "      <td>30.450327</td>\n",
       "      <td>0.016341</td>\n",
       "      <td>3410</td>\n",
       "    </tr>\n",
       "    <tr>\n",
       "      <th>2</th>\n",
       "      <td>3</td>\n",
       "      <td>email marketing</td>\n",
       "      <td>5.246263</td>\n",
       "      <td>0.043822</td>\n",
       "      <td>3164</td>\n",
       "    </tr>\n",
       "    <tr>\n",
       "      <th>3</th>\n",
       "      <td>4</td>\n",
       "      <td>social media</td>\n",
       "      <td>9.546326</td>\n",
       "      <td>0.167592</td>\n",
       "      <td>1520</td>\n",
       "    </tr>\n",
       "    <tr>\n",
       "      <th>4</th>\n",
       "      <td>5</td>\n",
       "      <td>referral</td>\n",
       "      <td>8.320327</td>\n",
       "      <td>0.123145</td>\n",
       "      <td>2419</td>\n",
       "    </tr>\n",
       "    <tr>\n",
       "      <th>...</th>\n",
       "      <td>...</td>\n",
       "      <td>...</td>\n",
       "      <td>...</td>\n",
       "      <td>...</td>\n",
       "      <td>...</td>\n",
       "    </tr>\n",
       "    <tr>\n",
       "      <th>795</th>\n",
       "      <td>796</td>\n",
       "      <td>social media</td>\n",
       "      <td>9.546326</td>\n",
       "      <td>0.167592</td>\n",
       "      <td>2813</td>\n",
       "    </tr>\n",
       "    <tr>\n",
       "      <th>796</th>\n",
       "      <td>797</td>\n",
       "      <td>email marketing</td>\n",
       "      <td>5.246263</td>\n",
       "      <td>0.043822</td>\n",
       "      <td>3439</td>\n",
       "    </tr>\n",
       "    <tr>\n",
       "      <th>797</th>\n",
       "      <td>798</td>\n",
       "      <td>social media</td>\n",
       "      <td>9.546326</td>\n",
       "      <td>0.167592</td>\n",
       "      <td>2101</td>\n",
       "    </tr>\n",
       "    <tr>\n",
       "      <th>798</th>\n",
       "      <td>799</td>\n",
       "      <td>paid advertising</td>\n",
       "      <td>30.450327</td>\n",
       "      <td>0.016341</td>\n",
       "      <td>813</td>\n",
       "    </tr>\n",
       "    <tr>\n",
       "      <th>799</th>\n",
       "      <td>800</td>\n",
       "      <td>email marketing</td>\n",
       "      <td>5.246263</td>\n",
       "      <td>0.043822</td>\n",
       "      <td>4820</td>\n",
       "    </tr>\n",
       "  </tbody>\n",
       "</table>\n",
       "<p>800 rows × 5 columns</p>\n",
       "</div>"
      ],
      "text/plain": [
       "     customer_id           channel       cost  conversion_rate  revenue\n",
       "0              1          referral   8.320327         0.123145     4199\n",
       "1              2  paid advertising  30.450327         0.016341     3410\n",
       "2              3   email marketing   5.246263         0.043822     3164\n",
       "3              4      social media   9.546326         0.167592     1520\n",
       "4              5          referral   8.320327         0.123145     2419\n",
       "..           ...               ...        ...              ...      ...\n",
       "795          796      social media   9.546326         0.167592     2813\n",
       "796          797   email marketing   5.246263         0.043822     3439\n",
       "797          798      social media   9.546326         0.167592     2101\n",
       "798          799  paid advertising  30.450327         0.016341      813\n",
       "799          800   email marketing   5.246263         0.043822     4820\n",
       "\n",
       "[800 rows x 5 columns]"
      ]
     },
     "execution_count": 4,
     "metadata": {},
     "output_type": "execute_result"
    }
   ],
   "source": [
    "#Reading CSV file :\n",
    "\n",
    "df = pd.read_csv(\"customer_data.csv\")\n",
    "df"
   ]
  },
  {
   "cell_type": "code",
   "execution_count": 5,
   "id": "420d1a3a",
   "metadata": {},
   "outputs": [
    {
     "data": {
      "text/html": [
       "<div>\n",
       "<style scoped>\n",
       "    .dataframe tbody tr th:only-of-type {\n",
       "        vertical-align: middle;\n",
       "    }\n",
       "\n",
       "    .dataframe tbody tr th {\n",
       "        vertical-align: top;\n",
       "    }\n",
       "\n",
       "    .dataframe thead th {\n",
       "        text-align: right;\n",
       "    }\n",
       "</style>\n",
       "<table border=\"1\" class=\"dataframe\">\n",
       "  <thead>\n",
       "    <tr style=\"text-align: right;\">\n",
       "      <th></th>\n",
       "      <th>customer_id</th>\n",
       "      <th>channel</th>\n",
       "      <th>cost</th>\n",
       "      <th>conversion_rate</th>\n",
       "      <th>revenue</th>\n",
       "    </tr>\n",
       "  </thead>\n",
       "  <tbody>\n",
       "    <tr>\n",
       "      <th>0</th>\n",
       "      <td>1</td>\n",
       "      <td>referral</td>\n",
       "      <td>8.320327</td>\n",
       "      <td>0.123145</td>\n",
       "      <td>4199</td>\n",
       "    </tr>\n",
       "    <tr>\n",
       "      <th>1</th>\n",
       "      <td>2</td>\n",
       "      <td>paid advertising</td>\n",
       "      <td>30.450327</td>\n",
       "      <td>0.016341</td>\n",
       "      <td>3410</td>\n",
       "    </tr>\n",
       "    <tr>\n",
       "      <th>2</th>\n",
       "      <td>3</td>\n",
       "      <td>email marketing</td>\n",
       "      <td>5.246263</td>\n",
       "      <td>0.043822</td>\n",
       "      <td>3164</td>\n",
       "    </tr>\n",
       "    <tr>\n",
       "      <th>3</th>\n",
       "      <td>4</td>\n",
       "      <td>social media</td>\n",
       "      <td>9.546326</td>\n",
       "      <td>0.167592</td>\n",
       "      <td>1520</td>\n",
       "    </tr>\n",
       "    <tr>\n",
       "      <th>4</th>\n",
       "      <td>5</td>\n",
       "      <td>referral</td>\n",
       "      <td>8.320327</td>\n",
       "      <td>0.123145</td>\n",
       "      <td>2419</td>\n",
       "    </tr>\n",
       "  </tbody>\n",
       "</table>\n",
       "</div>"
      ],
      "text/plain": [
       "   customer_id           channel       cost  conversion_rate  revenue\n",
       "0            1          referral   8.320327         0.123145     4199\n",
       "1            2  paid advertising  30.450327         0.016341     3410\n",
       "2            3   email marketing   5.246263         0.043822     3164\n",
       "3            4      social media   9.546326         0.167592     1520\n",
       "4            5          referral   8.320327         0.123145     2419"
      ]
     },
     "execution_count": 5,
     "metadata": {},
     "output_type": "execute_result"
    }
   ],
   "source": [
    "df.head()"
   ]
  },
  {
   "cell_type": "code",
   "execution_count": 6,
   "id": "047aaec0",
   "metadata": {},
   "outputs": [
    {
     "data": {
      "text/html": [
       "<div>\n",
       "<style scoped>\n",
       "    .dataframe tbody tr th:only-of-type {\n",
       "        vertical-align: middle;\n",
       "    }\n",
       "\n",
       "    .dataframe tbody tr th {\n",
       "        vertical-align: top;\n",
       "    }\n",
       "\n",
       "    .dataframe thead th {\n",
       "        text-align: right;\n",
       "    }\n",
       "</style>\n",
       "<table border=\"1\" class=\"dataframe\">\n",
       "  <thead>\n",
       "    <tr style=\"text-align: right;\">\n",
       "      <th></th>\n",
       "      <th>customer_id</th>\n",
       "      <th>channel</th>\n",
       "      <th>cost</th>\n",
       "      <th>conversion_rate</th>\n",
       "      <th>revenue</th>\n",
       "    </tr>\n",
       "  </thead>\n",
       "  <tbody>\n",
       "    <tr>\n",
       "      <th>795</th>\n",
       "      <td>796</td>\n",
       "      <td>social media</td>\n",
       "      <td>9.546326</td>\n",
       "      <td>0.167592</td>\n",
       "      <td>2813</td>\n",
       "    </tr>\n",
       "    <tr>\n",
       "      <th>796</th>\n",
       "      <td>797</td>\n",
       "      <td>email marketing</td>\n",
       "      <td>5.246263</td>\n",
       "      <td>0.043822</td>\n",
       "      <td>3439</td>\n",
       "    </tr>\n",
       "    <tr>\n",
       "      <th>797</th>\n",
       "      <td>798</td>\n",
       "      <td>social media</td>\n",
       "      <td>9.546326</td>\n",
       "      <td>0.167592</td>\n",
       "      <td>2101</td>\n",
       "    </tr>\n",
       "    <tr>\n",
       "      <th>798</th>\n",
       "      <td>799</td>\n",
       "      <td>paid advertising</td>\n",
       "      <td>30.450327</td>\n",
       "      <td>0.016341</td>\n",
       "      <td>813</td>\n",
       "    </tr>\n",
       "    <tr>\n",
       "      <th>799</th>\n",
       "      <td>800</td>\n",
       "      <td>email marketing</td>\n",
       "      <td>5.246263</td>\n",
       "      <td>0.043822</td>\n",
       "      <td>4820</td>\n",
       "    </tr>\n",
       "  </tbody>\n",
       "</table>\n",
       "</div>"
      ],
      "text/plain": [
       "     customer_id           channel       cost  conversion_rate  revenue\n",
       "795          796      social media   9.546326         0.167592     2813\n",
       "796          797   email marketing   5.246263         0.043822     3439\n",
       "797          798      social media   9.546326         0.167592     2101\n",
       "798          799  paid advertising  30.450327         0.016341      813\n",
       "799          800   email marketing   5.246263         0.043822     4820"
      ]
     },
     "execution_count": 6,
     "metadata": {},
     "output_type": "execute_result"
    }
   ],
   "source": [
    "df.tail()"
   ]
  },
  {
   "cell_type": "code",
   "execution_count": 7,
   "id": "92bbac9c",
   "metadata": {},
   "outputs": [
    {
     "data": {
      "text/html": [
       "<div>\n",
       "<style scoped>\n",
       "    .dataframe tbody tr th:only-of-type {\n",
       "        vertical-align: middle;\n",
       "    }\n",
       "\n",
       "    .dataframe tbody tr th {\n",
       "        vertical-align: top;\n",
       "    }\n",
       "\n",
       "    .dataframe thead th {\n",
       "        text-align: right;\n",
       "    }\n",
       "</style>\n",
       "<table border=\"1\" class=\"dataframe\">\n",
       "  <thead>\n",
       "    <tr style=\"text-align: right;\">\n",
       "      <th></th>\n",
       "      <th>customer_id</th>\n",
       "      <th>channel</th>\n",
       "      <th>cost</th>\n",
       "      <th>conversion_rate</th>\n",
       "      <th>revenue</th>\n",
       "    </tr>\n",
       "  </thead>\n",
       "  <tbody>\n",
       "    <tr>\n",
       "      <th>0</th>\n",
       "      <td>False</td>\n",
       "      <td>False</td>\n",
       "      <td>False</td>\n",
       "      <td>False</td>\n",
       "      <td>False</td>\n",
       "    </tr>\n",
       "    <tr>\n",
       "      <th>1</th>\n",
       "      <td>False</td>\n",
       "      <td>False</td>\n",
       "      <td>False</td>\n",
       "      <td>False</td>\n",
       "      <td>False</td>\n",
       "    </tr>\n",
       "    <tr>\n",
       "      <th>2</th>\n",
       "      <td>False</td>\n",
       "      <td>False</td>\n",
       "      <td>False</td>\n",
       "      <td>False</td>\n",
       "      <td>False</td>\n",
       "    </tr>\n",
       "    <tr>\n",
       "      <th>3</th>\n",
       "      <td>False</td>\n",
       "      <td>False</td>\n",
       "      <td>False</td>\n",
       "      <td>False</td>\n",
       "      <td>False</td>\n",
       "    </tr>\n",
       "    <tr>\n",
       "      <th>4</th>\n",
       "      <td>False</td>\n",
       "      <td>False</td>\n",
       "      <td>False</td>\n",
       "      <td>False</td>\n",
       "      <td>False</td>\n",
       "    </tr>\n",
       "    <tr>\n",
       "      <th>...</th>\n",
       "      <td>...</td>\n",
       "      <td>...</td>\n",
       "      <td>...</td>\n",
       "      <td>...</td>\n",
       "      <td>...</td>\n",
       "    </tr>\n",
       "    <tr>\n",
       "      <th>795</th>\n",
       "      <td>False</td>\n",
       "      <td>False</td>\n",
       "      <td>False</td>\n",
       "      <td>False</td>\n",
       "      <td>False</td>\n",
       "    </tr>\n",
       "    <tr>\n",
       "      <th>796</th>\n",
       "      <td>False</td>\n",
       "      <td>False</td>\n",
       "      <td>False</td>\n",
       "      <td>False</td>\n",
       "      <td>False</td>\n",
       "    </tr>\n",
       "    <tr>\n",
       "      <th>797</th>\n",
       "      <td>False</td>\n",
       "      <td>False</td>\n",
       "      <td>False</td>\n",
       "      <td>False</td>\n",
       "      <td>False</td>\n",
       "    </tr>\n",
       "    <tr>\n",
       "      <th>798</th>\n",
       "      <td>False</td>\n",
       "      <td>False</td>\n",
       "      <td>False</td>\n",
       "      <td>False</td>\n",
       "      <td>False</td>\n",
       "    </tr>\n",
       "    <tr>\n",
       "      <th>799</th>\n",
       "      <td>False</td>\n",
       "      <td>False</td>\n",
       "      <td>False</td>\n",
       "      <td>False</td>\n",
       "      <td>False</td>\n",
       "    </tr>\n",
       "  </tbody>\n",
       "</table>\n",
       "<p>800 rows × 5 columns</p>\n",
       "</div>"
      ],
      "text/plain": [
       "     customer_id  channel   cost  conversion_rate  revenue\n",
       "0          False    False  False            False    False\n",
       "1          False    False  False            False    False\n",
       "2          False    False  False            False    False\n",
       "3          False    False  False            False    False\n",
       "4          False    False  False            False    False\n",
       "..           ...      ...    ...              ...      ...\n",
       "795        False    False  False            False    False\n",
       "796        False    False  False            False    False\n",
       "797        False    False  False            False    False\n",
       "798        False    False  False            False    False\n",
       "799        False    False  False            False    False\n",
       "\n",
       "[800 rows x 5 columns]"
      ]
     },
     "execution_count": 7,
     "metadata": {},
     "output_type": "execute_result"
    }
   ],
   "source": [
    "df.isna()"
   ]
  },
  {
   "cell_type": "code",
   "execution_count": 8,
   "id": "bda1240c",
   "metadata": {},
   "outputs": [
    {
     "data": {
      "text/plain": [
       "customer_id        0\n",
       "channel            0\n",
       "cost               0\n",
       "conversion_rate    0\n",
       "revenue            0\n",
       "dtype: int64"
      ]
     },
     "execution_count": 8,
     "metadata": {},
     "output_type": "execute_result"
    }
   ],
   "source": [
    "df.isna().sum()"
   ]
  },
  {
   "cell_type": "code",
   "execution_count": 9,
   "id": "453d6c7c",
   "metadata": {},
   "outputs": [
    {
     "data": {
      "text/html": [
       "<div>\n",
       "<style scoped>\n",
       "    .dataframe tbody tr th:only-of-type {\n",
       "        vertical-align: middle;\n",
       "    }\n",
       "\n",
       "    .dataframe tbody tr th {\n",
       "        vertical-align: top;\n",
       "    }\n",
       "\n",
       "    .dataframe thead th {\n",
       "        text-align: right;\n",
       "    }\n",
       "</style>\n",
       "<table border=\"1\" class=\"dataframe\">\n",
       "  <thead>\n",
       "    <tr style=\"text-align: right;\">\n",
       "      <th></th>\n",
       "      <th>customer_id</th>\n",
       "      <th>cost</th>\n",
       "      <th>conversion_rate</th>\n",
       "      <th>revenue</th>\n",
       "    </tr>\n",
       "  </thead>\n",
       "  <tbody>\n",
       "    <tr>\n",
       "      <th>count</th>\n",
       "      <td>800.0000</td>\n",
       "      <td>800.000000</td>\n",
       "      <td>800.000000</td>\n",
       "      <td>800.000000</td>\n",
       "    </tr>\n",
       "    <tr>\n",
       "      <th>mean</th>\n",
       "      <td>400.5000</td>\n",
       "      <td>13.148052</td>\n",
       "      <td>0.086305</td>\n",
       "      <td>2769.151250</td>\n",
       "    </tr>\n",
       "    <tr>\n",
       "      <th>std</th>\n",
       "      <td>231.0844</td>\n",
       "      <td>9.922337</td>\n",
       "      <td>0.059611</td>\n",
       "      <td>1259.543706</td>\n",
       "    </tr>\n",
       "    <tr>\n",
       "      <th>min</th>\n",
       "      <td>1.0000</td>\n",
       "      <td>5.246263</td>\n",
       "      <td>0.016341</td>\n",
       "      <td>500.000000</td>\n",
       "    </tr>\n",
       "    <tr>\n",
       "      <th>25%</th>\n",
       "      <td>200.7500</td>\n",
       "      <td>5.246263</td>\n",
       "      <td>0.043822</td>\n",
       "      <td>1694.000000</td>\n",
       "    </tr>\n",
       "    <tr>\n",
       "      <th>50%</th>\n",
       "      <td>400.5000</td>\n",
       "      <td>8.320327</td>\n",
       "      <td>0.043822</td>\n",
       "      <td>2764.000000</td>\n",
       "    </tr>\n",
       "    <tr>\n",
       "      <th>75%</th>\n",
       "      <td>600.2500</td>\n",
       "      <td>9.546326</td>\n",
       "      <td>0.123145</td>\n",
       "      <td>3824.250000</td>\n",
       "    </tr>\n",
       "    <tr>\n",
       "      <th>max</th>\n",
       "      <td>800.0000</td>\n",
       "      <td>30.450327</td>\n",
       "      <td>0.167592</td>\n",
       "      <td>4998.000000</td>\n",
       "    </tr>\n",
       "  </tbody>\n",
       "</table>\n",
       "</div>"
      ],
      "text/plain": [
       "       customer_id        cost  conversion_rate      revenue\n",
       "count     800.0000  800.000000       800.000000   800.000000\n",
       "mean      400.5000   13.148052         0.086305  2769.151250\n",
       "std       231.0844    9.922337         0.059611  1259.543706\n",
       "min         1.0000    5.246263         0.016341   500.000000\n",
       "25%       200.7500    5.246263         0.043822  1694.000000\n",
       "50%       400.5000    8.320327         0.043822  2764.000000\n",
       "75%       600.2500    9.546326         0.123145  3824.250000\n",
       "max       800.0000   30.450327         0.167592  4998.000000"
      ]
     },
     "execution_count": 9,
     "metadata": {},
     "output_type": "execute_result"
    }
   ],
   "source": [
    "df.describe()"
   ]
  },
  {
   "cell_type": "code",
   "execution_count": 10,
   "id": "34212ca7",
   "metadata": {},
   "outputs": [
    {
     "name": "stdout",
     "output_type": "stream",
     "text": [
      "<class 'pandas.core.frame.DataFrame'>\n",
      "RangeIndex: 800 entries, 0 to 799\n",
      "Data columns (total 5 columns):\n",
      " #   Column           Non-Null Count  Dtype  \n",
      "---  ------           --------------  -----  \n",
      " 0   customer_id      800 non-null    int64  \n",
      " 1   channel          800 non-null    object \n",
      " 2   cost             800 non-null    float64\n",
      " 3   conversion_rate  800 non-null    float64\n",
      " 4   revenue          800 non-null    int64  \n",
      "dtypes: float64(2), int64(2), object(1)\n",
      "memory usage: 31.4+ KB\n"
     ]
    }
   ],
   "source": [
    "df.info()"
   ]
  },
  {
   "cell_type": "code",
   "execution_count": 11,
   "id": "ab8f7293",
   "metadata": {},
   "outputs": [
    {
     "data": {
      "text/plain": [
       "array(['referral', 'paid advertising', 'email marketing', 'social media'],\n",
       "      dtype=object)"
      ]
     },
     "execution_count": 11,
     "metadata": {},
     "output_type": "execute_result"
    }
   ],
   "source": [
    "#Checking Unique values in channel column :\n",
    "\n",
    "channel_type = df['channel'].unique()\n",
    "channel_type"
   ]
  },
  {
   "cell_type": "code",
   "execution_count": 12,
   "id": "76c2a455",
   "metadata": {},
   "outputs": [
    {
     "data": {
      "text/plain": [
       "email marketing     214\n",
       "referral            207\n",
       "paid advertising    194\n",
       "social media        185\n",
       "Name: channel, dtype: int64"
      ]
     },
     "execution_count": 12,
     "metadata": {},
     "output_type": "execute_result"
    }
   ],
   "source": [
    "#Counts of each channel type :\n",
    "\n",
    "channel_counts = df['channel'].value_counts()\n",
    "channel_counts"
   ]
  },
  {
   "cell_type": "code",
   "execution_count": 22,
   "id": "db4b896e",
   "metadata": {},
   "outputs": [
    {
     "data": {
      "image/png": "[encoded data removed]",
      "text/plain": [
       "<Figure size 720x432 with 1 Axes>"
      ]
     },
     "metadata": {
      "needs_background": "light"
     },
     "output_type": "display_data"
    }
   ],
   "source": [
    "# Set the figure size\n",
    "plt.figure(figsize=(10, 6)) \n",
    "\n",
    "# Create a bar plot using Seaborn\n",
    "ax = sns.barplot(x = channel_counts.index , y = channel_counts.values)\n",
    "\n",
    "for bars in ax.containers:\n",
    "     ax.bar_label(bars)\n",
    "# Set labels and title\n",
    "plt.xlabel(\"Channel Type\")\n",
    "plt.ylabel(\"Count\")\n",
    "plt.title(\"Distribution of Channel\", fontweight = 'bold')\n",
    "\n",
    "plt.show()"
   ]
  },
  {
   "cell_type": "code",
   "execution_count": null,
   "id": "8d299791",
   "metadata": {},
   "outputs": [],
   "source": [
    "Conclusion :\n",
    "    The highest distribution is observed in Email marketing."
   ]
  },
  {
   "cell_type": "code",
   "execution_count": null,
   "id": "b2d39f5c",
   "metadata": {},
   "outputs": [],
   "source": []
  },
  {
   "cell_type": "code",
   "execution_count": 19,
   "id": "3942e19e",
   "metadata": {},
   "outputs": [
    {
     "data": {
      "text/plain": [
       "5.246263     214\n",
       "8.320327     207\n",
       "30.450327    194\n",
       "9.546326     185\n",
       "Name: cost, dtype: int64"
      ]
     },
     "execution_count": 19,
     "metadata": {},
     "output_type": "execute_result"
    }
   ],
   "source": [
    "cost_count = df['cost'].value_counts()\n",
    "cost_count"
   ]
  },
  {
   "cell_type": "code",
   "execution_count": 21,
   "id": "83f4f19a",
   "metadata": {},
   "outputs": [
    {
     "data": {
      "image/png": "[encoded data removed]",
      "text/plain": [
       "<Figure size 720x432 with 1 Axes>"
      ]
     },
     "metadata": {
      "needs_background": "light"
     },
     "output_type": "display_data"
    }
   ],
   "source": [
    "# Set the figure size\n",
    "plt.figure(figsize=(10, 6)) \n",
    "\n",
    "# Create a bar plot using Seaborn\n",
    "ax = sns.barplot(x = cost_count.index, y = cost_count.values)\n",
    "\n",
    "\n",
    "for bars in ax.containers:\n",
    "    ax.bar_label(bars)\n",
    "\n",
    "# Set labels and title\n",
    "plt.xlabel(\"Cost\")\n",
    "plt.ylabel(\"Count\")\n",
    "plt.title(\"Distribution of Cost\", fontweight = 'bold')\n",
    "\n",
    "plt.show()"
   ]
  },
  {
   "cell_type": "code",
   "execution_count": null,
   "id": "bbdbfb3a",
   "metadata": {},
   "outputs": [],
   "source": [
    "#Customer Acquisition Cost"
   ]
  },
  {
   "cell_type": "code",
   "execution_count": 23,
   "id": "7abada11",
   "metadata": {},
   "outputs": [
    {
     "data": {
      "image/png": "[encoded data removed]",
      "text/plain": [
       "<Figure size 720x432 with 1 Axes>"
      ]
     },
     "metadata": {
      "needs_background": "light"
     },
     "output_type": "display_data"
    }
   ],
   "source": [
    "plt.figure(figsize=(10,6))\n",
    "\n",
    "sns.histplot(df['cost'], bins=20, kde=False, alpha=0.7)\n",
    "plt.title('Distribution of Customer Acquisition Cost', fontweight = 'bold')\n",
    "plt.xlabel('Cost')\n",
    "plt.ylabel('Frequency')\n",
    "plt.show()"
   ]
  },
  {
   "cell_type": "code",
   "execution_count": null,
   "id": "a03340aa",
   "metadata": {},
   "outputs": [],
   "source": [
    "#Revenue Generation"
   ]
  },
  {
   "cell_type": "code",
   "execution_count": 24,
   "id": "23a0b63a",
   "metadata": {},
   "outputs": [
    {
     "data": {
      "text/plain": [
       "1303    3\n",
       "2949    3\n",
       "3436    3\n",
       "4947    3\n",
       "3326    3\n",
       "       ..\n",
       "3377    1\n",
       "1171    1\n",
       "4155    1\n",
       "3175    1\n",
       "2101    1\n",
       "Name: revenue, Length: 722, dtype: int64"
      ]
     },
     "execution_count": 24,
     "metadata": {},
     "output_type": "execute_result"
    }
   ],
   "source": [
    "revenue_count = df['revenue'].value_counts()\n",
    "revenue_count"
   ]
  },
  {
   "cell_type": "code",
   "execution_count": 25,
   "id": "2af25a2b",
   "metadata": {},
   "outputs": [
    {
     "data": {
      "image/png": "[encoded data removed]",
      "text/plain": [
       "<Figure size 720x432 with 1 Axes>"
      ]
     },
     "metadata": {
      "needs_background": "light"
     },
     "output_type": "display_data"
    }
   ],
   "source": [
    "plt.figure(figsize=(10,6))\n",
    "\n",
    "sns.histplot(df['revenue'])\n",
    "plt.title('Revenue Generated By Customer', fontweight = 'bold')\n",
    "plt.xlabel('Revenue')\n",
    "plt.ylabel('Count')\n",
    "plt.show()"
   ]
  },
  {
   "cell_type": "code",
   "execution_count": null,
   "id": "d05db6a8",
   "metadata": {},
   "outputs": [],
   "source": [
    "Conclusion :\n",
    "    The peak revenue is attained within the range of 3000 to 4000."
   ]
  },
  {
   "cell_type": "code",
   "execution_count": null,
   "id": "a94082cd",
   "metadata": {},
   "outputs": [],
   "source": []
  },
  {
   "cell_type": "code",
   "execution_count": 26,
   "id": "1326895e",
   "metadata": {},
   "outputs": [],
   "source": [
    "#Cost of Aquisition by Channel"
   ]
  },
  {
   "cell_type": "code",
   "execution_count": 27,
   "id": "8e6d1b0b",
   "metadata": {},
   "outputs": [
    {
     "data": {
      "text/plain": [
       "channel\n",
       "email marketing      5.246263\n",
       "paid advertising    30.450327\n",
       "referral             8.320327\n",
       "social media         9.546326\n",
       "Name: cost, dtype: float64"
      ]
     },
     "execution_count": 27,
     "metadata": {},
     "output_type": "execute_result"
    }
   ],
   "source": [
    "cost_channel = df.groupby('channel')['cost'].mean()\n",
    "cost_channel"
   ]
  },
  {
   "cell_type": "code",
   "execution_count": 29,
   "id": "8a4af502",
   "metadata": {},
   "outputs": [
    {
     "data": {
      "image/png": "[encoded data removed]",
      "text/plain": [
       "<Figure size 720x432 with 1 Axes>"
      ]
     },
     "metadata": {
      "needs_background": "light"
     },
     "output_type": "display_data"
    }
   ],
   "source": [
    "# Set the figure size\n",
    "plt.figure(figsize=(10, 6))\n",
    "\n",
    "ax = sns.barplot(x = cost_channel.index, y = cost_channel.values)\n",
    "\n",
    "for bars in ax.containers:\n",
    "    ax.bar_label(bars)\n",
    "    \n",
    "# Set labels and title\n",
    "plt.xlabel(\"Channel\")\n",
    "plt.ylabel(\"Cost\")\n",
    "plt.title(\"Cost of Aquisition by Channel\", fontweight = 'bold')\n",
    "\n",
    "plt.show()  "
   ]
  },
  {
   "cell_type": "code",
   "execution_count": null,
   "id": "977fb296",
   "metadata": {},
   "outputs": [],
   "source": [
    "Conclusion :\n",
    "    Acquisition through paid advertising incurs the highest potential cost."
   ]
  },
  {
   "cell_type": "code",
   "execution_count": null,
   "id": "26bc7efa",
   "metadata": {},
   "outputs": [],
   "source": []
  },
  {
   "cell_type": "code",
   "execution_count": 30,
   "id": "b6252a9a",
   "metadata": {},
   "outputs": [],
   "source": [
    "#Revenue Generated By Channels"
   ]
  },
  {
   "cell_type": "code",
   "execution_count": 31,
   "id": "8e3c3dcf",
   "metadata": {},
   "outputs": [
    {
     "data": {
      "text/plain": [
       "channel\n",
       "email marketing     604706\n",
       "paid advertising    548396\n",
       "referral            569552\n",
       "social media        492667\n",
       "Name: revenue, dtype: int64"
      ]
     },
     "execution_count": 31,
     "metadata": {},
     "output_type": "execute_result"
    }
   ],
   "source": [
    "channnel_revenue = df.groupby('channel')['revenue'].sum()\n",
    "channnel_revenue"
   ]
  },
  {
   "cell_type": "code",
   "execution_count": 32,
   "id": "1a2a1887",
   "metadata": {},
   "outputs": [
    {
     "data": {
      "image/png": "[encoded data removed]",
      "text/plain": [
       "<Figure size 720x432 with 1 Axes>"
      ]
     },
     "metadata": {
      "needs_background": "light"
     },
     "output_type": "display_data"
    }
   ],
   "source": [
    "# Set the figure size\n",
    "plt.figure(figsize=(10, 6))\n",
    "\n",
    "ax = sns.barplot(x = channnel_revenue.index, y = channnel_revenue.values)\n",
    "\n",
    "for bars in ax.containers:\n",
    "    ax.bar_label(bars)\n",
    "    \n",
    "# Set labels and title\n",
    "plt.xlabel(\"Channel\")\n",
    "plt.ylabel(\"Revenue\")\n",
    "plt.title(\"Revenue Generated By Channels\", fontweight = 'bold')\n",
    "\n",
    "plt.show()  "
   ]
  },
  {
   "cell_type": "code",
   "execution_count": 37,
   "id": "f6726318",
   "metadata": {},
   "outputs": [
    {
     "data": {
      "image/png": "[encoded data removed]",
      "text/plain": [
       "<Figure size 720x720 with 1 Axes>"
      ]
     },
     "metadata": {},
     "output_type": "display_data"
    }
   ],
   "source": [
    "labels = channnel_revenue.index\n",
    "counts = channnel_revenue.values\n",
    "\n",
    "\n",
    "\n",
    "fig, ax = plt.subplots(figsize=(10, 10))  # Adjust the width and height as needed\n",
    "\n",
    "# Create a simple pie chart\n",
    "ax.pie(counts, labels=labels, autopct=\"%0.0f%%\", startangle=90, pctdistance=0.87)\n",
    "\n",
    "# Equal aspect ratio ensures that the pie is drawn as a circle.\n",
    "ax.axis('equal')\n",
    "\n",
    "# Add a legend\n",
    "ax.legend(labels, loc=\"upper right\")\n",
    "\n",
    "# Add a title\n",
    "plt.title(\"Revenue Generated By Channels\", fontweight = 'bold')\n",
    "\n",
    "# Hole - a white-colored circle of radius 0.75\n",
    "hole = plt.Circle((0, 0), 0.75, facecolor='white')\n",
    "\n",
    "plt.gcf().gca().add_artist(hole)\n",
    "\n",
    "# Display the plot\n",
    "plt.show()"
   ]
  },
  {
   "cell_type": "code",
   "execution_count": null,
   "id": "7d4f088d",
   "metadata": {},
   "outputs": [],
   "source": [
    "Conclusion :\n",
    "    Email marketing stands as the unrivaled champion in generating maximum revenue."
   ]
  },
  {
   "cell_type": "code",
   "execution_count": null,
   "id": "db774fe1",
   "metadata": {},
   "outputs": [],
   "source": []
  },
  {
   "cell_type": "code",
   "execution_count": 38,
   "id": "c5eec3b8",
   "metadata": {},
   "outputs": [],
   "source": [
    "#Customer Conversion_Rate By Cahnnel"
   ]
  },
  {
   "cell_type": "code",
   "execution_count": 39,
   "id": "b3068d8c",
   "metadata": {},
   "outputs": [
    {
     "data": {
      "text/plain": [
       "channel\n",
       "email marketing     0.043822\n",
       "paid advertising    0.016341\n",
       "referral            0.123145\n",
       "social media        0.167592\n",
       "Name: conversion_rate, dtype: float64"
      ]
     },
     "execution_count": 39,
     "metadata": {},
     "output_type": "execute_result"
    }
   ],
   "source": [
    "conversion = df.groupby('channel')['conversion_rate'].mean()\n",
    "conversion"
   ]
  },
  {
   "cell_type": "code",
   "execution_count": 40,
   "id": "cd4eb04a",
   "metadata": {},
   "outputs": [
    {
     "data": {
      "image/png": "[encoded data removed]",
      "text/plain": [
       "<Figure size 720x432 with 1 Axes>"
      ]
     },
     "metadata": {
      "needs_background": "light"
     },
     "output_type": "display_data"
    }
   ],
   "source": [
    "# Set the figure size\n",
    "plt.figure(figsize=(10, 6))\n",
    "\n",
    "ax = sns.barplot(x = conversion.index, y = conversion.values)\n",
    "\n",
    "for bars in ax.containers:\n",
    "    ax.bar_label(bars)\n",
    "    \n",
    "# Set labels and title\n",
    "plt.xlabel(\"Channel\")\n",
    "plt.ylabel(\"Conversion_Rate\")\n",
    "plt.title(\"Conversion Rate by Channels\", fontweight = 'bold')\n",
    "\n",
    "plt.show()"
   ]
  },
  {
   "cell_type": "code",
   "execution_count": null,
   "id": "9dae8109",
   "metadata": {},
   "outputs": [],
   "source": [
    "Conclusion : \n",
    "    The channel that exhibits the highest customer conversion rate is social media."
   ]
  },
  {
   "cell_type": "code",
   "execution_count": null,
   "id": "0ed53005",
   "metadata": {},
   "outputs": [],
   "source": []
  },
  {
   "cell_type": "code",
   "execution_count": 41,
   "id": "4725d5a6",
   "metadata": {},
   "outputs": [],
   "source": [
    "#Return of Investment by Channels:"
   ]
  },
  {
   "cell_type": "code",
   "execution_count": 43,
   "id": "6233bc97",
   "metadata": {},
   "outputs": [
    {
     "data": {
      "text/plain": [
       "0      504.667681\n",
       "1      111.985660\n",
       "2      603.095925\n",
       "3      159.223564\n",
       "4      290.733775\n",
       "          ...    \n",
       "795    294.668347\n",
       "796    655.514186\n",
       "797    220.084677\n",
       "798     26.699220\n",
       "799    918.749165\n",
       "Length: 800, dtype: float64"
      ]
     },
     "execution_count": 43,
     "metadata": {},
     "output_type": "execute_result"
    }
   ],
   "source": [
    "#Return of Investment (ROI)\n",
    "\n",
    "roi = df['revenue']/df['cost']\n",
    "roi"
   ]
  },
  {
   "cell_type": "code",
   "execution_count": 44,
   "id": "47d56419",
   "metadata": {},
   "outputs": [
    {
     "data": {
      "text/plain": [
       "channel\n",
       "email marketing     538.617455\n",
       "paid advertising     92.832615\n",
       "referral            330.691213\n",
       "social media        278.962290\n",
       "Name: roi, dtype: float64"
      ]
     },
     "execution_count": 44,
     "metadata": {},
     "output_type": "execute_result"
    }
   ],
   "source": [
    "roi_by_channel = df.groupby('channel')['roi'].mean()\n",
    "roi_by_channel"
   ]
  },
  {
   "cell_type": "code",
   "execution_count": 46,
   "id": "3703209a",
   "metadata": {},
   "outputs": [
    {
     "data": {
      "image/png": "[encoded data removed]",
      "text/plain": [
       "<Figure size 720x432 with 1 Axes>"
      ]
     },
     "metadata": {
      "needs_background": "light"
     },
     "output_type": "display_data"
    }
   ],
   "source": [
    "# Set the figure size\n",
    "plt.figure(figsize=(10, 6))\n",
    "\n",
    "ax = sns.barplot(x = roi_by_channel.index, y = roi_by_channel.values)\n",
    "\n",
    "for bars in ax.containers:\n",
    "    ax.bar_label(bars)\n",
    "    \n",
    "# Set labels and title\n",
    "plt.xlabel(\"Channel\")\n",
    "plt.ylabel(\"Return of Investment\")\n",
    "plt.title(\"Investment Return by Channels\", fontweight = 'bold')\n",
    "\n",
    "plt.show()"
   ]
  },
  {
   "cell_type": "code",
   "execution_count": null,
   "id": "760345f3",
   "metadata": {},
   "outputs": [],
   "source": []
  }
 ],
 "metadata": {
  "kernelspec": {
   "display_name": "Python 3 (ipykernel)",
   "language": "python",
   "name": "python3"
  },
  "language_info": {
   "codemirror_mode": {
    "name": "ipython",
    "version": 3
   },
   "file_extension": ".py",
   "mimetype": "text/x-python",
   "name": "python",
   "nbconvert_exporter": "python",
   "pygments_lexer": "ipython3",
   "version": "3.9.12"
  }
 },
 "nbformat": 4,
 "nbformat_minor": 5
}
